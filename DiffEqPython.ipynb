{
 "cells": [
  {
   "cell_type": "markdown",
   "metadata": {},
   "source": [
    "# Differential Equations in Python"
   ]
  },
  {
   "cell_type": "markdown",
   "metadata": {},
   "source": [
    "## Concentration of a Solution in a Lake"
   ]
  },
  {
   "cell_type": "markdown",
   "metadata": {},
   "source": [
    "A chemical company pumps $v$ liters of solution containing mass $m$ grams of solute into a large lake of volume $V$ per day. \n",
    "The inflow and outflow of the water are constant. The concentration of solute in the lake, say, $\\sigma$, satisfies the differential equation\n",
    "$$\n",
    "\\frac{d\\sigma}{dt} + \\frac{v}{V}\\sigma = \\frac{m}{V}\n",
    "$$\n",
    "\n",
    "**Determine the concentration of the solute in the lake at time $t$ assuming that $\\sigma=0$ when $t=0$.**"
   ]
  },
  {
   "cell_type": "markdown",
   "metadata": {},
   "source": [
    "### Solution\n",
    "Since the differential equation is of the form \n",
    "$$\\frac{dx}{dt} + xP(t) = Q(t)$$\n",
    "then we can solve for $\\sigma$ by multiplying the original equation by the integrating factor \n",
    "$$\n",
    "J(t) = \\exp\\Bigl(\\int{P(t)dt}\\Bigr)\n",
    "$$"
   ]
  },
  {
   "cell_type": "markdown",
   "metadata": {},
   "source": [
    "For our example, the integrating factor is givin by\n",
    "$$\n",
    "J(t) = \\exp\\bigl(\\frac{vt}{V}\\bigr)\n",
    "$$\n",
    "Multiplying the original equation by $J(t)$ and then integrating yields\n",
    "$$\n",
    "\\sigma(t) = \\frac{m}{V}-c\\cdot\\exp\\bigl(-\\frac{vt}{V}\\bigr)\n",
    "$$"
   ]
  },
  {
   "cell_type": "markdown",
   "metadata": {},
   "source": [
    "Using the initial conditions, we get that $C=\\frac{m}{V}$, which means that \n",
    "$$\n",
    "\\sigma(t) = \\frac{m}{V}\\Bigl(1-\\exp\\bigl(-\\frac{vt}{V}\\bigr)\\Bigr)\n",
    "$$"
   ]
  },
  {
   "cell_type": "markdown",
   "metadata": {},
   "source": [
    "And as $t\\rightarrow \\infty$, the concentration approaches $\\frac{m}{V}$ $(g/L)$"
   ]
  },
  {
   "cell_type": "markdown",
   "metadata": {},
   "source": [
    "### Using Python "
   ]
  },
  {
   "cell_type": "code",
   "execution_count": 1,
   "metadata": {},
   "outputs": [],
   "source": [
    "from sympy import dsolve, Eq, Function, symbols, pprint, simplify, evalf"
   ]
  },
  {
   "cell_type": "code",
   "execution_count": 2,
   "metadata": {},
   "outputs": [],
   "source": [
    "t = symbols('t')\n",
    "v = symbols('v')\n",
    "m = symbols('m')\n",
    "V = symbols('V')\n",
    "sigma= symbols(r'sigma', cls=Function)"
   ]
  },
  {
   "cell_type": "code",
   "execution_count": 3,
   "metadata": {},
   "outputs": [
    {
     "name": "stdout",
     "output_type": "stream",
     "text": [
      "         ⎛     -t⋅v ⎞\n",
      "         ⎜     ─────⎟\n",
      "         ⎜       V  ⎟\n",
      "       m⋅⎝1 - ℯ     ⎠\n",
      "σ(t) = ──────────────\n",
      "             v       \n"
     ]
    }
   ],
   "source": [
    "# Differential equation\n",
    "eqn = Eq(sigma(t).diff(t) + (v/V)*sigma(t), m/V)\n",
    "\n",
    "# Initial Conditions\n",
    "ics={sigma(0):0}\n",
    "\n",
    "# Solution to differential equation\n",
    "sol = simplify(dsolve(eqn, sigma(t), ics=ics))\n",
    "\n",
    "pprint(sol)"
   ]
  },
  {
   "cell_type": "code",
   "execution_count": 4,
   "metadata": {},
   "outputs": [
    {
     "data": {
      "text/latex": [
       "$\\displaystyle \\sigma{\\left(1 \\right)} = \\frac{m \\left(1 - e^{- \\frac{v}{V}}\\right)}{v}$"
      ],
      "text/plain": [
       "Eq(sigma(1), m*(1 - exp(-v/V))/v)"
      ]
     },
     "execution_count": 4,
     "metadata": {},
     "output_type": "execute_result"
    }
   ],
   "source": [
    "sol.subs(t,0)\n",
    "sol.subs(t,1)"
   ]
  },
  {
   "cell_type": "markdown",
   "metadata": {},
   "source": [
    "This agrees with the results which we calculated analytically. Now using matplotlib we can visualize the behavior of the solution"
   ]
  },
  {
   "cell_type": "code",
   "execution_count": 5,
   "metadata": {},
   "outputs": [],
   "source": [
    "import matplotlib.pyplot as plt\n",
    "import matplotlib as mpl\n",
    "import numpy as np\n",
    "\n",
    "mpl.style.use('fivethirtyeight')"
   ]
  },
  {
   "cell_type": "code",
   "execution_count": 26,
   "metadata": {},
   "outputs": [],
   "source": [
    "m_sol= 1\n",
    "v_sol = 2\n",
    "Volume = 100\n",
    "t = np.linspace(0,800,5000)"
   ]
  },
  {
   "cell_type": "code",
   "execution_count": 27,
   "metadata": {},
   "outputs": [],
   "source": [
    "def solution(t):\n",
    "    X = (m_sol/Volume) * (1-np.exp(-(v_sol/Volume)*t))\n",
    "    return X"
   ]
  },
  {
   "cell_type": "code",
   "execution_count": 28,
   "metadata": {},
   "outputs": [],
   "source": [
    "X = np.array([solution(s) for s in t])"
   ]
  },
  {
   "cell_type": "code",
   "execution_count": 30,
   "metadata": {},
   "outputs": [
    {
     "data": {
      "image/png": "[encoded data removed]",
      "text/plain": [
       "<Figure size 576x360 with 1 Axes>"
      ]
     },
     "metadata": {},
     "output_type": "display_data"
    }
   ],
   "source": [
    "fig, ax = plt.subplots(figsize=(8,5))\n",
    "ax.plot(t, X,'k',lw=2)\n",
    "ax.set_xlabel('Time')\n",
    "ax.set_ylabel('Concentration ')\n",
    "ax.set_title('Concentration of Lake')\n",
    "plt.show()"
   ]
  }
 ],
 "metadata": {
  "kernelspec": {
   "display_name": "Python 3",
   "language": "python",
   "name": "python3"
  },
  "language_info": {
   "codemirror_mode": {
    "name": "ipython",
    "version": 3
   },
   "file_extension": ".py",
   "mimetype": "text/x-python",
   "name": "python",
   "nbconvert_exporter": "python",
   "pygments_lexer": "ipython3",
   "version": "3.9.5"
  }
 },
 "nbformat": 4,
 "nbformat_minor": 4
}
