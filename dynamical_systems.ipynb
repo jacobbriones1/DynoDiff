{
 "cells": [
  {
   "cell_type": "markdown",
   "metadata": {},
   "source": [
    "# Dynamical Systems"
   ]
  },
  {
   "cell_type": "markdown",
   "metadata": {},
   "source": [
    "## Definition\n",
    "A smooth dynamical system is a continuously differentiable function $\\phi:\\mathbb{R}^n\\rightarrow\\mathbb{R}^n$ where $\\phi(t,X)=\\phi_t(X)$ satisfies:\n",
    "1. $\\phi_0:\\mathbb{R}^n\\rightarrow\\mathbb{R}^n$ is the identity function $\\phi_0(X)=X_0$\n",
    "2. The composition $\\phi_t\\circ\\phi_s=\\phi_{t+s}$ for each $t,s\\in\\mathbb{R}$"
   ]
  },
  {
   "cell_type": "code",
   "execution_count": null,
   "metadata": {},
   "outputs": [],
   "source": []
  }
 ],
 "metadata": {
  "kernelspec": {
   "display_name": "Python 3",
   "language": "python",
   "name": "python3"
  },
  "language_info": {
   "codemirror_mode": {
    "name": "ipython",
    "version": 3
   },
   "file_extension": ".py",
   "mimetype": "text/x-python",
   "name": "python",
   "nbconvert_exporter": "python",
   "pygments_lexer": "ipython3",
   "version": "3.9.5"
  }
 },
 "nbformat": 4,
 "nbformat_minor": 4
}
